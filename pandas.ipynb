{
 "cells": [
  {
   "cell_type": "markdown",
   "id": "c75b2dd9",
   "metadata": {},
   "source": [
    "# PANDAS"
   ]
  },
  {
   "cell_type": "markdown",
   "id": "cc531afe",
   "metadata": {},
   "source": [
    "## Pandas Introduction\n",
    "What is Pandas?\n",
    "Pandas is a Python library used for working with data sets.\n",
    "\n",
    "It has functions for analyzing, cleaning, exploring, and manipulating data.\n",
    "\n",
    "The name \"Pandas\" has a reference to both \"Panel Data\", and \"Python Data Analysis\" and was created by Wes McKinney in 2008.\n",
    "\n"
   ]
  },
  {
   "cell_type": "markdown",
   "id": "ac9153f6",
   "metadata": {},
   "source": [
    "## Why Use Pandas?\n",
    "Pandas allows us to analyze big data and make conclusions based on statistical theories.\n",
    "\n",
    "Pandas can clean messy data sets, and make them readable and relevant.\n",
    "\n",
    "Relevant data is very important in data science.\n",
    "\n",
    "Data Science: is a branch of computer science where we study how to store, use and \n",
    "    analyze data for deriving information from it.\n",
    "\n"
   ]
  },
  {
   "cell_type": "markdown",
   "id": "0b656a03",
   "metadata": {},
   "source": [
    "## What Can Pandas Do?\n",
    "Pandas gives you answers about the data. Like:\n",
    "\n",
    "Is there a correlation between two or more columns?\n",
    "What is average value?\n",
    "Max value?\n",
    "Min value?\n",
    "Pandas are also able to delete rows that are not relevant, or contains wrong values, like empty or NULL values. This is called cleaning the data.\n",
    "\n"
   ]
  },
  {
   "cell_type": "markdown",
   "id": "08b54789",
   "metadata": {},
   "source": [
    "##  Where is the Pandas Codebase?\n",
    "The source code for Pandas is located at this github repository https://github.com/pandas-dev/pandas\n",
    "github: enables many people to work on the same codebase."
   ]
  },
  {
   "cell_type": "markdown",
   "id": "6a80f8f6",
   "metadata": {},
   "source": [
    "## IMPORTING PANDAS"
   ]
  },
  {
   "cell_type": "code",
   "execution_count": 1,
   "id": "d941cfe0",
   "metadata": {},
   "outputs": [],
   "source": [
    "import pandas"
   ]
  },
  {
   "cell_type": "code",
   "execution_count": 2,
   "id": "1de185a5",
   "metadata": {},
   "outputs": [
    {
     "name": "stdout",
     "output_type": "stream",
     "text": [
      "    cars  passings\n",
      "0    BMW         3\n",
      "1  Volvo         7\n",
      "2   Ford         2\n"
     ]
    }
   ],
   "source": [
    "mydataset = {\n",
    "  'cars': [\"BMW\", \"Volvo\", \"Ford\"],\n",
    "  'passings': [3, 7, 2]\n",
    "}\n",
    "myvar = pandas.DataFrame(mydataset)\n",
    "print(myvar)"
   ]
  },
  {
   "cell_type": "markdown",
   "id": "b503b6d6",
   "metadata": {},
   "source": [
    "## Pandas as pd\n",
    "Pandas is usually imported under the pd alias.\n",
    "\n",
    "alias: In Python alias are an alternate name for referring to the same thing.\n",
    "\n",
    "Create an alias with the as keyword while importing:\n",
    "\n"
   ]
  },
  {
   "cell_type": "code",
   "execution_count": 3,
   "id": "3fd53c81",
   "metadata": {},
   "outputs": [],
   "source": [
    "import pandas as pd"
   ]
  },
  {
   "cell_type": "code",
   "execution_count": 4,
   "id": "550154c2",
   "metadata": {},
   "outputs": [
    {
     "name": "stdout",
     "output_type": "stream",
     "text": [
      "    cars  passings\n",
      "0    BMW         3\n",
      "1  Volvo         7\n",
      "2   Ford         2\n"
     ]
    }
   ],
   "source": [
    "import pandas as pd\n",
    "\n",
    "mydataset = {\n",
    "  'cars': [\"BMW\", \"Volvo\", \"Ford\"],\n",
    "  'passings': [3, 7, 2]\n",
    "}\n",
    "\n",
    "myvar = pd.DataFrame(mydataset)\n",
    "\n",
    "print(myvar)\n"
   ]
  },
  {
   "cell_type": "markdown",
   "id": "75b765f9",
   "metadata": {},
   "source": [
    "### Checking Pandas Version\n",
    "The version string is stored under __version__ attribute."
   ]
  },
  {
   "cell_type": "code",
   "execution_count": 5,
   "id": "c96c21b7",
   "metadata": {},
   "outputs": [
    {
     "name": "stdout",
     "output_type": "stream",
     "text": [
      "1.4.4\n"
     ]
    }
   ],
   "source": [
    "print(pd.__version__)"
   ]
  },
  {
   "cell_type": "markdown",
   "id": "6c6dbec9",
   "metadata": {},
   "source": [
    "## Pandas Series\n",
    "What is a Series?\n",
    "A Pandas Series is like a column in a table.\n",
    "\n",
    "It is a one-dimensional array holding data of any type.\n",
    "\n",
    "ExampleGet your own Python Server\n",
    "Create a simple Pandas Series from a list:\n",
    "\n"
   ]
  },
  {
   "cell_type": "code",
   "execution_count": 6,
   "id": "fbffc3e9",
   "metadata": {},
   "outputs": [
    {
     "name": "stdout",
     "output_type": "stream",
     "text": [
      "0    1\n",
      "1    7\n",
      "2    2\n",
      "dtype: int64\n"
     ]
    }
   ],
   "source": [
    "import pandas as pd\n",
    "\n",
    "a = [1, 7, 2]\n",
    "\n",
    "myvar = pd.Series(a)\n",
    "\n",
    "print(myvar)\n"
   ]
  },
  {
   "cell_type": "markdown",
   "id": "151a8784",
   "metadata": {},
   "source": [
    "## Labels\n",
    "If nothing else is specified, the values are labeled with their index number. First value has index 0, second value has index 1 etc.\n",
    "This label can be used to access a specified value.\n",
    "Return the first value of the Series:\n",
    "\n",
    "\n"
   ]
  },
  {
   "cell_type": "code",
   "execution_count": 7,
   "id": "9512bd93",
   "metadata": {},
   "outputs": [
    {
     "name": "stdout",
     "output_type": "stream",
     "text": [
      "1\n"
     ]
    }
   ],
   "source": [
    "print(myvar[0])"
   ]
  },
  {
   "cell_type": "markdown",
   "id": "122b00cb",
   "metadata": {},
   "source": [
    "## Create Labels\n",
    "With the index argument, you can name your own labels.\n",
    "\n",
    "Create your own labels:\n",
    "\n"
   ]
  },
  {
   "cell_type": "code",
   "execution_count": 9,
   "id": "18f1404c",
   "metadata": {},
   "outputs": [
    {
     "name": "stdout",
     "output_type": "stream",
     "text": [
      "x    1\n",
      "y    7\n",
      "z    2\n",
      "dtype: int64\n",
      "7\n"
     ]
    }
   ],
   "source": [
    "import pandas as pd\n",
    "\n",
    "a = [1, 7, 2]\n",
    "\n",
    "myvar = pd.Series(a, index = [\"x\", \"y\", \"z\"])\n",
    "\n",
    "print(myvar)\n",
    "# When you have created labels, you can access an item by referring to the label.\n",
    "\n",
    "\n",
    "# Return the value of \"y\":\n",
    "\n",
    "print(myvar[\"y\"])\n",
    "\n"
   ]
  },
  {
   "cell_type": "markdown",
   "id": "00387db7",
   "metadata": {},
   "source": [
    "### Complete the Pandas modules, do the exercises, take the exam, and you will become w3schools certified!\n",
    "\n",
    "Key/Value Objects as Series\n",
    "You can also use a key/value object, like a dictionary, when creating a Series.\n",
    "\n",
    "ExampleGet your own Python Server\n",
    "Create a simple Pandas Series from a dictionary:\n",
    "\n",
    "\n"
   ]
  },
  {
   "cell_type": "code",
   "execution_count": 10,
   "id": "71fc807b",
   "metadata": {},
   "outputs": [
    {
     "name": "stdout",
     "output_type": "stream",
     "text": [
      "day1    420\n",
      "day2    380\n",
      "day3    390\n",
      "dtype: int64\n"
     ]
    }
   ],
   "source": [
    "calories = {\"day1\": 420, \"day2\": 380, \"day3\": 390}\n",
    "\n",
    "myvar = pd.Series(calories)\n",
    "\n",
    "print(myvar)"
   ]
  },
  {
   "cell_type": "markdown",
   "id": "f30a9814",
   "metadata": {},
   "source": [
    "#### Note: The keys of the dictionary become the labels.\n",
    "\n",
    "To select only some of the items in the dictionary, use the index argument and \n",
    "specify only the items you want to include in the Series.\n",
    "\n",
    "\n"
   ]
  },
  {
   "cell_type": "code",
   "execution_count": 11,
   "id": "7f668869",
   "metadata": {},
   "outputs": [
    {
     "name": "stdout",
     "output_type": "stream",
     "text": [
      "day1    420\n",
      "day2    380\n",
      "dtype: int64\n"
     ]
    }
   ],
   "source": [
    "# Create a Series using only data from \"day1\" and \"day2\":\n",
    "\n",
    "calories = {\"day1\": 420, \"day2\": 380, \"day3\": 390}\n",
    "\n",
    "myvar = pd.Series(calories, index = [\"day1\", \"day2\"])\n",
    "\n",
    "print(myvar)\n"
   ]
  },
  {
   "cell_type": "markdown",
   "id": "f8d923ac",
   "metadata": {},
   "source": [
    "## DataFrames\n",
    "Data sets in Pandas are usually multi-dimensional tables, called DataFrames.\n",
    "\n",
    "Series is like a column, a DataFrame is the whole table.\n",
    "\n",
    "Create a DataFrame from two Series:\n"
   ]
  },
  {
   "cell_type": "code",
   "execution_count": 5,
   "id": "66f20b6d",
   "metadata": {},
   "outputs": [
    {
     "name": "stdout",
     "output_type": "stream",
     "text": [
      "   calories  duration\n",
      "0       420        50\n",
      "1       380        40\n",
      "2       390        45\n"
     ]
    }
   ],
   "source": [
    "data = {\n",
    "  \"calories\": [420, 380, 390],\n",
    "  \"duration\": [50, 40, 45]\n",
    "}\n",
    "\n",
    "myvar = pd.DataFrame(data)\n",
    "\n",
    "print(myvar)\n"
   ]
  },
  {
   "cell_type": "markdown",
   "id": "7319c482",
   "metadata": {},
   "source": [
    "## Pandas DataFrames\n",
    "### What is a DataFrame?\n",
    "A Pandas DataFrame is a 2 dimensional data structure, like a 2 dimensional array, or a table with rows and columns.\n"
   ]
  },
  {
   "cell_type": "code",
   "execution_count": 6,
   "id": "d1526503",
   "metadata": {},
   "outputs": [
    {
     "name": "stdout",
     "output_type": "stream",
     "text": [
      "   calories  duration\n",
      "0       420        50\n",
      "1       380        40\n",
      "2       390        45\n"
     ]
    }
   ],
   "source": [
    "import pandas as pd\n",
    "#load data into a DataFrame object:\n",
    "df = pd.DataFrame(myvar)\n",
    "print(df) "
   ]
  },
  {
   "cell_type": "markdown",
   "id": "c1782d1d",
   "metadata": {},
   "source": [
    "### Locate Row\n",
    "As you can see from the result above, the DataFrame is like a table with rows and columns.\n",
    "Pandas use the loc attribute to return one or more specified row(s)\n",
    "Return row 0:"
   ]
  },
  {
   "cell_type": "code",
   "execution_count": null,
   "id": "ab1bd947",
   "metadata": {},
   "outputs": [],
   "source": [
    "# Return row 0 and 1:\n",
    "#use a list of indexes:\n",
    "X=df.loc[[1]]\n",
    "PRINT(X)"
   ]
  },
  {
   "cell_type": "markdown",
   "id": "f9cdbf00",
   "metadata": {},
   "source": [
    "## Named Indexes\n",
    "With the index argument, you can name your own indexes.\n",
    "Add a list of names to give each row a name:"
   ]
  },
  {
   "cell_type": "code",
   "execution_count": 7,
   "id": "b0248dea",
   "metadata": {},
   "outputs": [
    {
     "name": "stdout",
     "output_type": "stream",
     "text": [
      "      calories  duration\n",
      "day1       420        50\n",
      "day2       380        40\n",
      "day3       390        45\n"
     ]
    }
   ],
   "source": [
    "\n",
    "data = {\n",
    "  \"calories\": [420, 380, 390],\n",
    "  \"duration\": [50, 40, 45]\n",
    "}\n",
    "df = pd.DataFrame(data, index = [\"day1\", \"day2\", \"day3\"])\n",
    "print(df) "
   ]
  },
  {
   "cell_type": "markdown",
   "id": "209ddcf0",
   "metadata": {},
   "source": [
    "# Load Files Into a DataFrame\n",
    "# If your data sets are stored in a file, Pandas can load them into a DataFrame.\n"
   ]
  },
  {
   "cell_type": "code",
   "execution_count": 35,
   "id": "82b1321c",
   "metadata": {},
   "outputs": [
    {
     "name": "stdout",
     "output_type": "stream",
     "text": [
      "calories    380\n",
      "duration     40\n",
      "Name: day2, dtype: int64\n"
     ]
    }
   ],
   "source": [
    "# Use the named index in the loc attribute to return the specified row(s).\n",
    "# Return \"day2\":\n",
    "#refer to the named index:\n",
    "print(df.loc[\"day2\"])"
   ]
  },
  {
   "cell_type": "code",
   "execution_count": 51,
   "id": "926854f5",
   "metadata": {},
   "outputs": [
    {
     "name": "stdout",
     "output_type": "stream",
     "text": [
      "DATA\\Salary Data.csv\n"
     ]
    }
   ],
   "source": [
    "## Load a comma separated file (CSV file) into a DataFrame:\n",
    "\n",
    "data_path=['DATA']\n",
    "# df = pd.read_csv('seattle-weather.csv')\n",
    "# print(df) \n",
    "filepath=os.sep.join(data_path+['Salary Data.csv'])\n",
    "print(filepath)"
   ]
  },
  {
   "cell_type": "markdown",
   "id": "b1446e1e",
   "metadata": {},
   "source": [
    "## Pandas Read CSV\n",
    "### Read CSV Files\n",
    "A simple way to store big data sets is to use CSV files (comma separated files).\n",
    "CSV files contains plain text and is a well know format that can be read by everyone including Pandas.\n",
    "In our examples we will be using a CSV file called 'data.csv'.\n",
    "Download data.csv. or Open data.csv\n"
   ]
  },
  {
   "cell_type": "code",
   "execution_count": 52,
   "id": "98ba407d",
   "metadata": {},
   "outputs": [
    {
     "name": "stdout",
     "output_type": "stream",
     "text": [
      "     Age  Gender Education Level                              Job Title  Years of Experience  Salary\n",
      "0     32    Male      Bachelor's                      Software Engineer                  5.0   90000\n",
      "1     28  Female        Master's                           Data Analyst                  3.0   65000\n",
      "2     45    Male             PhD                         Senior Manager                 15.0  150000\n",
      "3     36  Female      Bachelor's                        Sales Associate                  7.0   60000\n",
      "4     52    Male        Master's                               Director                 20.0  200000\n",
      "5     29    Male      Bachelor's                      Marketing Analyst                  2.0   55000\n",
      "6     42  Female        Master's                        Product Manager                 12.0  120000\n",
      "7     31    Male      Bachelor's                          Sales Manager                  4.0   80000\n",
      "8     26  Female      Bachelor's                  Marketing Coordinator                  1.0   45000\n",
      "9     38    Male             PhD                       Senior Scientist                 10.0  110000\n",
      "10    29    Male        Master's                     Software Developer                  3.0   75000\n",
      "11    48  Female      Bachelor's                             HR Manager                 18.0  140000\n",
      "12    35    Male      Bachelor's                      Financial Analyst                  6.0   65000\n",
      "13    40  Female        Master's                        Project Manager                 14.0  130000\n",
      "14    27    Male      Bachelor's                   Customer Service Rep                  2.0   40000\n",
      "15    44    Male      Bachelor's                     Operations Manager                 16.0  125000\n",
      "16    33  Female        Master's                      Marketing Manager                  7.0   90000\n",
      "17    39    Male             PhD                        Senior Engineer                 12.0  115000\n",
      "18    25  Female      Bachelor's                       Data Entry Clerk                  0.0   35000\n",
      "19    51    Male      Bachelor's                         Sales Director                 22.0  180000\n",
      "20    34  Female        Master's                       Business Analyst                  5.0   80000\n",
      "21    47    Male        Master's                       VP of Operations                 19.0  190000\n",
      "22    30    Male      Bachelor's                             IT Support                  2.0   50000\n",
      "23    36  Female      Bachelor's                              Recruiter                  9.0   60000\n",
      "24    41    Male        Master's                      Financial Manager                 13.0  140000\n",
      "25    28  Female      Bachelor's                Social Media Specialist                  3.0   45000\n",
      "26    37  Female        Master's                       Software Manager                 11.0  110000\n",
      "27    24    Male      Bachelor's                       Junior Developer                  1.0   40000\n",
      "28    43  Female             PhD                      Senior Consultant                 15.0  140000\n",
      "29    33    Male        Master's                       Product Designer                  6.0   90000\n",
      "30    50    Male      Bachelor's                                    CEO                 25.0  250000\n",
      "31    31  Female      Bachelor's                             Accountant                  4.0   55000\n",
      "32    29    Male        Master's                         Data Scientist                  3.0   75000\n",
      "33    39  Female      Bachelor's                   Marketing Specialist                 10.0   65000\n",
      "34    46    Male             PhD                         Senior Manager                 20.0  170000\n",
      "35    27    Male      Bachelor's                       Technical Writer                  2.0   45000\n",
      "36    35  Female      Bachelor's                          HR Generalist                  7.0   60000\n",
      "37    42    Male        Master's                       Project Engineer                 14.0  115000\n",
      "38    26  Female      Bachelor's                   Customer Success Rep                  1.0   40000\n",
      "39    49    Male      Bachelor's                        Sales Executive                 21.0  160000\n",
      "40    34  Female        Master's                            UX Designer                  5.0   80000\n",
      "41    48    Male        Master's                    Operations Director                 18.0  190000\n",
      "42    30    Male      Bachelor's                       Network Engineer                  3.0   60000\n",
      "43    36  Female      Bachelor's               Administrative Assistant                  8.0   45000\n",
      "44    41    Male        Master's                    Strategy Consultant                 13.0  130000\n",
      "45    28  Female      Bachelor's                             Copywriter                  2.0   40000\n",
      "46    32    Male      Bachelor's                        Account Manager                  5.0   75000\n",
      "47    45  Female        Master's                  Director of Marketing                 16.0  180000\n",
      "48    38    Male             PhD                       Senior Scientist                 11.0  120000\n",
      "49    25    Male      Bachelor's                      Help Desk Analyst                  0.0   35000\n",
      "50    51  Female      Bachelor's               Customer Service Manager                 22.0  130000\n",
      "51    33    Male        Master's          Business Intelligence Analyst                  7.0   85000\n",
      "52    40  Female      Bachelor's                      Event Coordinator                 12.0   60000\n",
      "53    47    Male        Master's                          VP of Finance                 19.0  200000\n",
      "54    29  Female      Bachelor's                       Graphic Designer                  3.0   50000\n",
      "55    36    Male      Bachelor's                          Sales Manager                  9.0   95000\n",
      "56    27  Female        Master's                          UX Researcher                  2.0   65000\n",
      "57    43    Male             PhD                        Senior Engineer                 17.0  140000\n",
      "58    30  Female      Bachelor's                   Social Media Manager                  4.0   55000\n",
      "59    35    Male        Master's                        Product Manager                  7.0  105000\n",
      "60    51  Female        Master's                 Director of Operations                 23.0  170000\n",
      "61    29    Male      Bachelor's                      Marketing Analyst                  3.0   50000\n",
      "62    40  Female      Bachelor's                             HR Manager                 12.0   80000\n",
      "63    47    Male             PhD                  Senior Data Scientist                 21.0  180000\n",
      "64    26    Male      Bachelor's                      Junior Accountant                  1.0   35000\n",
      "65    38  Female        Master's              Digital Marketing Manager                 10.0   90000\n",
      "66    46    Male      Bachelor's                             IT Manager                 19.0  120000\n",
      "67    31  Female      Bachelor's        Customer Service Representative                  5.0   45000\n",
      "68    34    Male        Master's           Business Development Manager                  8.0   90000\n",
      "69    49  Female        Master's               Senior Financial Analyst                 18.0  150000\n",
      "70    33    Male      Bachelor's                          Web Developer                  6.0   65000\n",
      "71    39  Female      Bachelor's                              Recruiter                 11.0   70000\n",
      "72    45    Male             PhD                      Research Director                 16.0  190000\n",
      "73    28    Male      Bachelor's           Technical Support Specialist                  2.0   40000\n",
      "74    42  Female        Master's                      Creative Director                 14.0  120000\n",
      "75    37    Male      Bachelor's                        Project Manager                 10.0   95000\n",
      "76    50  Female      Bachelor's                     Operations Manager                 22.0  160000\n",
      "77    32    Male        Master's               Senior Software Engineer                  6.0  100000\n",
      "78    48  Female        Master's               Human Resources Director                 20.0  180000\n",
      "79    30  Female      Bachelor's              Content Marketing Manager                  3.0   55000\n",
      "80    36    Male      Bachelor's                    Technical Recruiter                  8.0   70000\n",
      "81    41  Female        Master's                           Data Analyst                 13.0   80000\n",
      "82    25    Male      Bachelor's                   Sales Representative                  0.0   30000\n",
      "83    52    Male             PhD               Chief Technology Officer                 24.0  250000\n",
      "84    29  Female      Bachelor's                        Junior Designer                  2.0   40000\n",
      "85    34  Female        Master's                      Financial Advisor                 10.0   95000\n",
      "86    27    Male      Bachelor's                 Junior Account Manager                  2.0   45000\n",
      "87    40  Female      Bachelor's                          HR Generalist                 15.0   80000\n",
      "88    46    Male        Master's                 Senior Project Manager                 21.0  135000\n",
      "89    31  Female      Bachelor's                  Marketing Coordinator                  6.0   55000\n",
      "90    36    Male             PhD                    Principal Scientist                 11.0  120000\n",
      "91    29  Female      Bachelor's                        Sales Associate                  3.0   40000\n",
      "92    43    Male      Bachelor's                   Supply Chain Manager                 18.0  105000\n",
      "93    52  Female        Master's               Senior Marketing Manager                 25.0  170000\n",
      "94    33    Male      Bachelor's                       Business Analyst                  7.0   75000\n",
      "95    39  Female      Bachelor's                    Training Specialist                 12.0   65000\n",
      "96    47    Male             PhD                     Research Scientist                 22.0  160000\n",
      "97    26    Male      Bachelor's              Junior Software Developer                  1.0   35000\n",
      "98    38  Female        Master's               Public Relations Manager                 10.0   90000\n",
      "99    45    Male      Bachelor's                     Operations Analyst                 20.0  110000\n",
      "100   31  Female      Bachelor's                      Event Coordinator                  5.0   45000\n",
      "101   35    Male        Master's              Product Marketing Manager                  8.0   95000\n",
      "102   49  Female        Master's                      Senior HR Manager                 19.0  150000\n",
      "103   33    Male      Bachelor's                   Junior Web Developer                  5.0   50000\n",
      "104   39  Female        Master's             Senior Project Coordinator                 13.0   80000\n",
      "105   44    Male             PhD                     Chief Data Officer                 16.0  220000\n",
      "106   30  Female      Bachelor's               Digital Content Producer                  3.0   50000\n",
      "107   36    Male      Bachelor's                  IT Support Specialist                  7.0   60000\n",
      "108   41  Female        Master's               Senior Marketing Analyst                 14.0  100000\n",
      "109   28    Male      Bachelor's               Customer Success Manager                  2.0   40000\n",
      "110   42  Female        Master's                Senior Graphic Designer                 15.0  110000\n",
      "111   37    Male      Bachelor's               Software Project Manager                  9.0   95000\n",
      "112   50  Female      Bachelor's                   Supply Chain Analyst                 22.0  130000\n",
      "113   32    Male        Master's                Senior Business Analyst                  6.0   90000\n",
      "114   23  Female      Bachelor's               Junior Marketing Analyst                  0.5   35000\n",
      "115   31    Male        Master's               Senior Financial Analyst                  6.0   95000\n",
      "116   40  Female      Bachelor's                         Office Manager                 15.0   65000\n",
      "117   48    Male             PhD                     Principal Engineer                 20.0  170000\n",
      "118   29  Female      Bachelor's                   Junior HR Generalist                  3.0   45000\n",
      "119   35    Male        Master's                 Senior Product Manager                 10.0  120000\n",
      "120   42  Female      Bachelor's                          Sales Manager                 17.0  100000\n",
      "121   53    Male        Master's                  Director of Marketing                 25.0  180000\n",
      "122   33  Female      Bachelor's              Junior Operations Analyst                  5.0   50000\n",
      "123   38    Male      Bachelor's               Customer Service Manager                 11.0   80000\n",
      "124   44  Female             PhD                       Senior Scientist                 16.0  140000\n",
      "125   26    Male      Bachelor's                      Junior Accountant                  2.0   40000\n",
      "126   37  Female        Master's                   Senior HR Generalist                  9.0   95000\n",
      "127   45    Male      Bachelor's               Sales Operations Manager                 18.0  110000\n",
      "128   32  Female      Bachelor's                  Marketing Coordinator                  4.0   50000\n",
      "129   34    Male        Master's              Senior Software Developer                  8.0  105000\n",
      "130   50  Female        Master's                 Director of Operations                 21.0  160000\n",
      "131   29    Male      Bachelor's                    Junior Web Designer                  3.0   45000\n",
      "132   40  Female        Master's             Senior Training Specialist                 12.0  100000\n",
      "133   47    Male             PhD              Senior Research Scientist                 22.0  160000\n",
      "134   27    Male      Bachelor's            Junior Sales Representative                  1.0   35000\n",
      "135   39  Female      Bachelor's               Administrative Assistant                 10.0   55000\n",
      "136   46    Male        Master's                 Senior Project Manager                 19.0  140000\n",
      "137   30  Female      Bachelor's               Junior Marketing Manager                  4.0   50000\n",
      "138   36    Male      Bachelor's                    Junior Data Analyst                  7.0   60000\n",
      "139   43  Female        Master's       Senior Product Marketing Manager                 14.0  120000\n",
      "140   28    Male      Bachelor's                Junior Business Analyst                  2.0   40000\n",
      "141   41  Female        Master's               Senior Marketing Manager                 13.0  110000\n",
      "142   33    Male      Bachelor's              Junior Software Developer                  5.0   50000\n",
      "143   47    Male      Bachelor's                   Senior Sales Manager                 20.0  135000\n",
      "144   25  Female        Master's            Junior Marketing Specialist                  1.5   40000\n",
      "145   34    Male      Bachelor's                Senior Business Analyst                  8.0   90000\n",
      "146   42  Female             PhD                  Senior Data Scientist                 16.0  150000\n",
      "147   31    Male      Bachelor's                 Junior Project Manager                  4.0   60000\n",
      "148   38  Female      Bachelor's                      Senior Accountant                 10.0   80000\n",
      "149   45    Male        Master's                      Director of Sales                 19.0  175000\n",
      "150   29  Female      Bachelor's                       Junior Recruiter                  3.0   45000\n",
      "151   36    Male        Master's    Senior Business Development Manager                 11.0  120000\n",
      "152   43  Female             PhD                Senior Product Designer                 18.0  140000\n",
      "153   26    Male      Bachelor's     Junior Customer Support Specialist                  2.0   35000\n",
      "154   37  Female        Master's               Senior Marketing Analyst                  9.0   95000\n",
      "155   44    Male      Bachelor's           Senior IT Support Specialist                 14.0  110000\n",
      "156   32  Female      Bachelor's               Junior Financial Analyst                  5.0   50000\n",
      "157   33    Male        Master's              Senior Operations Manager                  7.0  115000\n",
      "158   51  Female             PhD            Director of Human Resources                 23.0  185000\n",
      "159   28    Male      Bachelor's               Junior Software Engineer                  2.0   40000\n",
      "160   39  Female      Bachelor's            Senior Sales Representative                 12.0   90000\n",
      "161   48    Male        Master's         Director of Product Management                 21.0  175000\n",
      "162   30  Female      Bachelor's                      Junior Copywriter                  3.0   45000\n",
      "163   35    Male      Bachelor's           Senior Marketing Coordinator                  7.0   80000\n",
      "164   41  Female        Master's         Senior Human Resources Manager                 13.0  120000\n",
      "165   27    Male      Bachelor's  Junior Business Development Associate                  1.5   35000\n",
      "166   40  Female      Bachelor's                 Senior Account Manager                 14.0  110000\n",
      "167   46    Male             PhD                      Senior Researcher                 18.0  150000\n",
      "168   31  Female      Bachelor's                  Junior HR Coordinator                  4.0   50000\n",
      "169   34    Male        Master's               Senior Software Engineer                  9.0  105000\n",
      "170   50  Female        Master's                    Director of Finance                 20.0  180000\n",
      "171   29    Male      Bachelor's           Junior Marketing Coordinator                  2.0   40000\n",
      "172   43    Male      Bachelor's                 Senior Project Manager                 16.0  140000\n",
      "173   26  Female        Master's                  Junior Data Scientist                  1.5   45000\n",
      "174   35    Male      Bachelor's              Senior Operations Analyst                  7.0   85000\n",
      "175   42  Female             PhD               Senior Marketing Manager                 18.0  140000\n",
      "176   31    Male      Bachelor's                      Junior Accountant                  4.0   50000\n",
      "177   38  Female      Bachelor's     Senior Human Resources Coordinator                 10.0   80000\n",
      "178   46    Male        Master's                 Director of Operations                 20.0  170000\n",
      "179   29  Female      Bachelor's            Junior Sales Representative                  2.0   40000\n",
      "180   37    Male        Master's                Senior Business Analyst                  9.0  105000\n",
      "181   44  Female             PhD                     Senior UX Designer                 15.0  145000\n",
      "182   27    Male      Bachelor's                 Junior Product Manager                  2.0   40000\n",
      "183   36  Female      Bachelor's            Senior Marketing Specialist                  8.0   85000\n",
      "184   43    Male      Bachelor's              Senior IT Project Manager                 14.0  130000\n",
      "185   33  Female        Master's               Senior Financial Analyst                  6.0   95000\n",
      "186   34    Male      Bachelor's       Senior Quality Assurance Analyst                  9.0  100000\n",
      "187   50  Female             PhD        Director of Sales and Marketing                 22.0  180000\n",
      "188   28    Male      Bachelor's              Junior Operations Analyst                  1.5   35000\n",
      "189   39  Female      Bachelor's               Senior Account Executive                 12.0   95000\n",
      "190   47    Male        Master's       Director of Business Development                 19.0  170000\n",
      "191   30  Female      Bachelor's            Junior Social Media Manager                  3.0   45000\n",
      "192   34    Male      Bachelor's                 Senior Product Manager                  7.0   95000\n",
      "193   40  Female        Master's      Senior Human Resources Specialist                 13.0  120000\n",
      "194   28    Male      Bachelor's                Junior Business Analyst                  2.0   40000\n",
      "195   41  Female      Bachelor's           Senior Marketing Coordinator                 11.0   90000\n",
      "196   45    Male             PhD                    Senior Data Analyst                 17.0  155000\n",
      "197   32  Female      Bachelor's                 Junior Account Manager                  5.0   55000\n",
      "198   35    Male        Master's              Senior Software Developer                  9.0  110000\n",
      "199   49  Female        Master's              Director of Human Capital                 21.0  180000\n",
      "200   30    Male      Bachelor's         Junior Advertising Coordinator                  3.0   45000\n",
      "201   44    Male      Bachelor's                   Senior Sales Manager                 16.0  130000\n",
      "202   27  Female        Master's                     Junior UX Designer                  1.5   45000\n",
      "203   36    Male      Bachelor's                      Senior Accountant                  7.0   90000\n",
      "204   41  Female             PhD              Senior Marketing Director                 17.0  160000\n",
      "205   31    Male      Bachelor's                   Junior HR Generalist                  4.0   50000\n",
      "206   39  Female      Bachelor's              Senior Operations Manager                 10.0  120000\n",
      "207   47    Male        Master's                    Director of Finance                 20.0  170000\n",
      "208   30  Female      Bachelor's           Junior Marketing Coordinator                  2.0   40000\n",
      "209   38    Male        Master's                   Senior IT Consultant                  9.0  110000\n",
      "210   45  Female             PhD                Senior Product Designer                 15.0  150000\n",
      "211   28    Male      Bachelor's  Junior Business Development Associate                  2.0   40000\n",
      "212   35  Female      Bachelor's               Senior Marketing Analyst                  8.0   85000\n",
      "213   44    Male      Bachelor's               Senior Software Engineer                 14.0  130000\n",
      "214   34  Female        Master's               Senior Financial Advisor                  6.0  100000\n",
      "215   35    Male      Bachelor's             Senior Project Coordinator                  9.0   95000\n",
      "216   50  Female             PhD                 Director of Operations                 22.0  180000\n",
      "217   29    Male      Bachelor's     Junior Business Operations Analyst                  1.5   35000\n",
      "218   40  Female      Bachelor's            Senior Sales Representative                 12.0  100000\n",
      "219   48    Male        Master's                  Director of Marketing                 19.0  170000\n",
      "220   31  Female      Bachelor's         Junior Social Media Specialist                  3.0   45000\n",
      "221   33    Male      Bachelor's     Senior Product Development Manager                  7.0  100000\n",
      "222   42  Female        Master's         Senior Human Resources Manager                 13.0  140000\n",
      "223   28    Male      Bachelor's               Junior Financial Analyst                  2.0   40000\n",
      "224   40  Female      Bachelor's               Senior Marketing Manager                 11.0  105000\n",
      "225   46    Male             PhD                  Senior Data Scientist                 18.0  160000\n",
      "226   33  Female      Bachelor's              Junior Operations Manager                  5.0   70000\n",
      "227   37    Male        Master's              Senior Software Architect                  9.0  120000\n",
      "228   51  Female        Master's            Director of Human Resources                 21.0  190000\n",
      "229   30    Male      Bachelor's            Junior Marketing Specialist                  3.0   45000\n",
      "230   43    Male      Bachelor's                 Senior Project Manager                 15.0  120000\n",
      "231   27  Female        Master's              Junior Research Scientist                  1.5   50000\n",
      "232   35    Male      Bachelor's              Senior Operations Analyst                  8.0   85000\n",
      "233   42  Female             PhD               Senior Marketing Manager                 13.0  140000\n",
      "234   32    Male      Bachelor's            Junior Sales Representative                  3.0   45000\n",
      "235   37  Female      Bachelor's               Senior Financial Analyst                  9.0  100000\n",
      "236   45    Male        Master's              Senior Software Developer                 16.0  140000\n",
      "237   33  Female      Bachelor's              Junior Operations Analyst                  5.0   70000\n",
      "238   39    Male      Bachelor's            Senior Marketing Specialist                 10.0  120000\n",
      "239   44  Female             PhD                      Senior HR Manager                 18.0  160000\n",
      "240   29    Male      Bachelor's                Junior Business Analyst                  1.5   40000\n",
      "241   38  Female      Bachelor's                 Senior Product Manager                 10.0  120000\n",
      "242   46    Male             PhD                    Senior Data Analyst                 19.0  150000\n",
      "243   34  Female      Bachelor's               Junior Marketing Analyst                  6.0   70000\n",
      "244   36    Male      Bachelor's              Senior Operations Manager                  8.0   95000\n",
      "245   49  Female        Master's                  Director of Marketing                 21.0  180000\n",
      "246   31    Male      Bachelor's               Junior Financial Analyst                  3.0   50000\n",
      "247   41  Female      Bachelor's             Senior Project Coordinator                 11.0   95000\n",
      "248   47    Male        Master's                 Director of Operations                 20.0  170000\n",
      "249   30  Female      Bachelor's           Junior Marketing Coordinator                  2.0   40000\n",
      "250   38    Male        Master's                   Senior IT Consultant                  9.0  110000\n",
      "251   45  Female             PhD                Senior Product Designer                 15.0  150000\n",
      "252   28    Male      Bachelor's  Junior Business Development Associate                  2.0   40000\n",
      "253   35  Female      Bachelor's               Senior Marketing Analyst                  8.0   85000\n",
      "254   44    Male      Bachelor's               Senior Software Engineer                 14.0  130000\n",
      "255   34  Female        Master's               Senior Financial Advisor                  6.0  100000\n",
      "256   35    Male      Bachelor's             Senior Project Coordinator                  9.0   95000\n",
      "257   50  Female             PhD                 Director of Operations                 22.0  180000\n",
      "258   29    Male      Bachelor's     Junior Business Operations Analyst                  1.5     350\n",
      "259   37  Female      Bachelor's               Senior Financial Manager                 10.0  120000\n",
      "260   46    Male             PhD                  Senior Data Scientist                 18.0  160000\n",
      "261   31  Female      Bachelor's           Junior Marketing Coordinator                  3.0   50000\n",
      "262   42    Male      Bachelor's              Senior Operations Manager                 12.0  110000\n",
      "263   29  Female      Bachelor's            Junior Sales Representative                  1.5   40000\n",
      "264   36    Male      Bachelor's            Senior Marketing Specialist                  8.0   95000\n",
      "265   44  Female        Master's                   Senior HR Specialist                 15.0  140000\n",
      "266   33    Male      Bachelor's              Junior Operations Manager                  4.0   60000\n",
      "267   39  Female      Bachelor's           Senior Marketing Coordinator                  9.0  110000\n",
      "268   45    Male             PhD                   Senior Data Engineer                 16.0  150000\n",
      "269   32  Female      Bachelor's               Junior Marketing Manager                  4.0   60000\n",
      "270   37    Male      Bachelor's               Senior Financial Analyst                  8.0   90000\n",
      "271   47  Female        Master's                  Director of Marketing                 20.0  180000\n",
      "272   30    Male      Bachelor's                Junior Business Analyst                  2.0   40000\n",
      "273   38  Female      Bachelor's                 Senior Project Manager                  9.0  120000\n",
      "274   46    Male             PhD                    Senior Data Analyst                 17.0  160000\n",
      "275   34  Female      Bachelor's               Junior Financial Analyst                  5.0   70000\n",
      "276   36    Male      Bachelor's                 Senior Product Manager                  8.0   95000\n",
      "277   49  Female        Master's                 Director of Operations                 21.0  180000\n",
      "278   31    Male      Bachelor's              Junior Operations Analyst                  3.0   50000\n",
      "279   41  Female      Bachelor's             Senior Project Coordinator                 11.0   95000\n",
      "280   47    Male        Master's                  Director of Marketing                 19.0  170000\n",
      "281   29  Female      Bachelor's  Junior Business Development Associate                  1.5   35000\n",
      "282   35    Male      Bachelor's               Senior Financial Manager                  9.0  100000\n",
      "283   44  Female             PhD                Senior Product Designer                 15.0  150000\n",
      "284   33    Male      Bachelor's                Junior Business Analyst                  4.0   60000\n",
      "285   35  Female      Bachelor's               Senior Marketing Analyst                  8.0   85000\n",
      "286   44    Male      Bachelor's               Senior Software Engineer                 13.0  130000\n",
      "287   32    Male      Bachelor's                 Junior Product Manager                  4.0   65000\n",
      "288   38  Female      Bachelor's                Senior Business Analyst                 10.0  110000\n",
      "289   49    Male             PhD                 Director of Operations                 21.0  180000\n",
      "290   29  Female      Bachelor's            Junior Marketing Specialist                  2.0   40000\n",
      "291   35    Male      Bachelor's    Senior Business Development Manager                  7.0   90000\n",
      "292   45  Female        Master's                      Senior HR Manager                 14.0  140000\n",
      "293   33    Male      Bachelor's               Junior Financial Analyst                  4.0   60000\n",
      "294   40  Female      Bachelor's               Senior Marketing Manager                 12.0  130000\n",
      "295   44    Male             PhD                  Senior Data Scientist                 16.0  160000\n",
      "296   30  Female      Bachelor's          Junior Operations Coordinator                  2.0   40000\n",
      "297   37    Male      Bachelor's               Senior Marketing Analyst                  9.0  100000\n",
      "298   48  Female        Master's                         Director of HR                 20.0  180000\n",
      "299   31    Male      Bachelor's                 Junior Project Manager                  3.0   55000\n",
      "300   38  Female      Bachelor's          Senior Operations Coordinator                  9.0  120000\n",
      "301   45    Male             PhD                   Senior Data Engineer                 16.0  150000\n",
      "302   33  Female      Bachelor's               Junior Marketing Manager                  5.0   70000\n",
      "303   36    Male      Bachelor's                Senior Business Analyst                  8.0   95000\n",
      "304   49  Female        Master's                  Director of Marketing                 21.0  180000\n",
      "305   31    Male      Bachelor's              Junior Operations Analyst                  3.0   50000\n",
      "306   42  Female      Bachelor's                 Senior Project Manager                 12.0  120000\n",
      "307   47    Male        Master's                  Director of Marketing                 19.0  170000\n",
      "308   29  Female      Bachelor's  Junior Business Development Associate                  1.5   35000\n",
      "309   35    Male      Bachelor's               Senior Financial Manager                  9.0  100000\n",
      "310   44  Female             PhD                Senior Product Designer                 15.0  150000\n",
      "311   33    Male      Bachelor's                Junior Business Analyst                  4.0   60000\n",
      "312   35  Female      Bachelor's               Senior Marketing Analyst                  8.0   85000\n",
      "313   44    Male      Bachelor's               Senior Software Engineer                 13.0  130000\n",
      "314   34  Female        Master's               Senior Financial Advisor                  6.0   80000\n",
      "315   36    Male      Bachelor's            Senior Marketing Specialist                  8.0   95000\n",
      "316   30  Female      Bachelor's                  Junior HR Coordinator                  2.0   40000\n",
      "317   37    Male      Bachelor's    Senior Business Development Manager                 10.0  120000\n",
      "318   45  Female        Master's               Senior Marketing Manager                 16.0  160000\n",
      "319   32    Male      Bachelor's               Junior Financial Advisor                  4.0   65000\n",
      "320   39  Female      Bachelor's                 Senior Project Manager                 12.0  130000\n",
      "321   47    Male             PhD                Director of Engineering                 20.0  180000\n",
      "322   29  Female      Bachelor's               Junior Marketing Analyst                  2.0   40000\n",
      "323   36    Male      Bachelor's              Senior Operations Manager                  9.0  100000\n",
      "324   43  Female             PhD                  Senior Data Scientist                 15.0  150000\n",
      "325   32    Male      Bachelor's           Junior Marketing Coordinator                  3.0   55000\n",
      "326   38  Female      Bachelor's                Senior Business Analyst                 10.0  110000\n",
      "327   48    Male        Master's                  Director of Marketing                 21.0  180000\n",
      "328   31  Female      Bachelor's  Junior Business Development Associate                  3.0   50000\n",
      "329   40    Male      Bachelor's               Senior Financial Analyst                 12.0  130000\n",
      "330   45  Female             PhD                     Senior UX Designer                 16.0  160000\n",
      "331   33    Male      Bachelor's                 Junior Product Manager                  4.0   60000\n",
      "332   36  Female      Bachelor's               Senior Marketing Manager                  8.0   95000\n",
      "333   47    Male        Master's                 Director of Operations                 19.0  170000\n",
      "334   29  Female      Bachelor's                 Junior Project Manager                  2.0   40000\n",
      "335   34    Male      Bachelor's          Senior Operations Coordinator                  7.0   90000\n",
      "336   44  Female             PhD                Senior Business Analyst                 15.0  150000\n",
      "337   33    Male      Bachelor's            Junior Marketing Specialist                  5.0   70000\n",
      "338   35  Female      Bachelor's               Senior Financial Manager                  8.0   90000\n",
      "339   43    Male        Master's                  Director of Marketing                 18.0  170000\n",
      "340   31  Female      Bachelor's               Junior Financial Analyst                  3.0   50000\n",
      "341   41    Male      Bachelor's                 Senior Product Manager                 14.0  150000\n",
      "342   44  Female             PhD                   Senior Data Engineer                 16.0  160000\n",
      "343   33    Male      Bachelor's                Junior Business Analyst                  4.0   60000\n",
      "344   35  Female      Bachelor's               Senior Marketing Analyst                  8.0   85000\n",
      "345   45    Male        Master's                Director of Engineering                 19.0  180000\n",
      "346   28  Female      Bachelor's              Junior Operations Manager                  1.0   35000\n",
      "347   36    Male      Bachelor's    Senior Business Development Manager                  8.0  110000\n",
      "348   44  Female             PhD                  Senior Data Scientist                 16.0  160000\n",
      "349   31    Male      Bachelor's           Junior Marketing Coordinator                  3.0   55000\n",
      "350   38  Female      Bachelor's                Senior Business Analyst                 10.0  110000\n",
      "351   48    Male        Master's                  Director of Marketing                 21.0  180000\n",
      "352   31  Female      Bachelor's  Junior Business Development Associate                  3.0   50000\n",
      "353   40    Male      Bachelor's               Senior Financial Analyst                 12.0  130000\n",
      "354   45  Female             PhD                     Senior UX Designer                 16.0  160000\n",
      "355   33    Male      Bachelor's                 Junior Product Manager                  4.0   60000\n",
      "356   36  Female      Bachelor's               Senior Marketing Manager                  8.0   95000\n",
      "357   47    Male        Master's                 Director of Operations                 19.0  170000\n",
      "358   29  Female      Bachelor's                 Junior Project Manager                  2.0   40000\n",
      "359   34    Male      Bachelor's          Senior Operations Coordinator                  7.0   90000\n",
      "360   44  Female             PhD                Senior Business Analyst                 15.0  150000\n",
      "361   33    Male      Bachelor's            Junior Marketing Specialist                  5.0   70000\n",
      "362   35  Female      Bachelor's               Senior Financial Manager                  8.0   90000\n",
      "363   43    Male        Master's                  Director of Marketing                 18.0  170000\n",
      "364   31  Female      Bachelor's               Junior Financial Analyst                  3.0   50000\n",
      "365   41    Male      Bachelor's                 Senior Product Manager                 14.0  150000\n",
      "366   44  Female             PhD                   Senior Data Engineer                 16.0  160000\n",
      "367   33    Male      Bachelor's                Junior Business Analyst                  4.0   60000\n",
      "368   35  Female      Bachelor's               Senior Marketing Analyst                  8.0   85000\n",
      "369   43    Male        Master's                 Director of Operations                 19.0  170000\n",
      "370   29  Female      Bachelor's                 Junior Project Manager                  2.0   40000\n",
      "371   34    Male      Bachelor's          Senior Operations Coordinator                  7.0   90000\n",
      "372   44  Female             PhD                Senior Business Analyst                 15.0  150000\n"
     ]
    }
   ],
   "source": [
    "# Load the CSV into a DataFrame:\n",
    "df = pd.read_csv(filepath)\n",
    "print(df.to_string()) \n",
    "# # Tip: use to_string() to print the entire DataFrame.\n",
    "# If you have a large DataFrame with many rows, Pandas will only return the first 5 rows, and the last 5 rows:\n"
   ]
  },
  {
   "cell_type": "code",
   "execution_count": 55,
   "id": "8441618e",
   "metadata": {},
   "outputs": [
    {
     "name": "stdout",
     "output_type": "stream",
     "text": [
      "     Age  Gender Education Level                      Job Title  \\\n",
      "0     32    Male      Bachelor's              Software Engineer   \n",
      "1     28  Female        Master's                   Data Analyst   \n",
      "2     45    Male             PhD                 Senior Manager   \n",
      "3     36  Female      Bachelor's                Sales Associate   \n",
      "4     52    Male        Master's                       Director   \n",
      "..   ...     ...             ...                            ...   \n",
      "368   35  Female      Bachelor's       Senior Marketing Analyst   \n",
      "369   43    Male        Master's         Director of Operations   \n",
      "370   29  Female      Bachelor's         Junior Project Manager   \n",
      "371   34    Male      Bachelor's  Senior Operations Coordinator   \n",
      "372   44  Female             PhD        Senior Business Analyst   \n",
      "\n",
      "     Years of Experience  Salary  \n",
      "0                    5.0   90000  \n",
      "1                    3.0   65000  \n",
      "2                   15.0  150000  \n",
      "3                    7.0   60000  \n",
      "4                   20.0  200000  \n",
      "..                   ...     ...  \n",
      "368                  8.0   85000  \n",
      "369                 19.0  170000  \n",
      "370                  2.0   40000  \n",
      "371                  7.0   90000  \n",
      "372                 15.0  150000  \n",
      "\n",
      "[373 rows x 6 columns]\n"
     ]
    }
   ],
   "source": [
    "# Print the DataFrame without the to_string() method:\n",
    "df = pd.read_csv(filepath)\n",
    "print(df) \n"
   ]
  },
  {
   "cell_type": "markdown",
   "id": "65d69a58",
   "metadata": {},
   "source": [
    "## max_rows\n",
    "The number of rows returned is defined in Pandas option settings.\n",
    "You can check your system's maximum rows with the pd.options.display.max_rows statement."
   ]
  },
  {
   "cell_type": "code",
   "execution_count": 56,
   "id": "17f16b52",
   "metadata": {},
   "outputs": [
    {
     "name": "stdout",
     "output_type": "stream",
     "text": [
      "60\n"
     ]
    }
   ],
   "source": [
    "# Check the number of maximum returned rows:\n",
    "print(pd.options.display.max_rows) "
   ]
  },
  {
   "cell_type": "markdown",
   "id": "a38caf04",
   "metadata": {},
   "source": [
    "In my system the number is 60, which means that if the DataFrame contains more than 60 rows,\n",
    "the print(df) statement will return only the headers and the first and last 5 rows.\n",
    "\n",
    "You can change the maximum rows number with the same statement."
   ]
  },
  {
   "cell_type": "markdown",
   "id": "3c4636d1",
   "metadata": {},
   "source": [
    "## Pandas Read JSON\n",
    "### Read JSON\n",
    "Big data sets are often stored, or extracted as JSON.\n",
    "JSON is plain text, but has the format of an object, and is well known in the world of programming, including Pandas."
   ]
  },
  {
   "cell_type": "markdown",
   "id": "29f3c2ae",
   "metadata": {},
   "source": [
    "In our examples we will be using a JSON file called 'data.json'.\n",
    "\n",
    "Open data.json.\n",
    "\n",
    "ExampleGet your own Python Server\n",
    "Load the JSON file into a DataFrame:\n"
   ]
  },
  {
   "cell_type": "code",
   "execution_count": 57,
   "id": "c5fd6bee",
   "metadata": {},
   "outputs": [],
   "source": [
    "df = pd.read_json('data.json')\n",
    "\n",
    "print(df.to_string()) \n",
    "# Tip: use to_string() to print the entire DataFrame.\n"
   ]
  },
  {
   "cell_type": "markdown",
   "id": "f46d7c7b",
   "metadata": {},
   "source": [
    "## Dictionary as JSON\n",
    "JSON = Python Dictionary\n",
    "\n",
    "JSON objects have the same format as Python dictionaries.\n",
    "\n",
    "If your JSON code is not in a file, but in a Python Dictionary, you can load it into a DataFrame directly:\n"
   ]
  },
  {
   "cell_type": "code",
   "execution_count": 58,
   "id": "f3f9d9ce",
   "metadata": {},
   "outputs": [
    {
     "name": "stdout",
     "output_type": "stream",
     "text": [
      "   Duration  Pulse  Maxpulse  Calories\n",
      "0        60    110       130       409\n",
      "1        60    117       145       479\n",
      "2        60    103       135       340\n",
      "3        45    109       175       282\n",
      "4        45    117       148       406\n",
      "5        60    102       127       300\n"
     ]
    }
   ],
   "source": [
    "# Load a Python Dictionary into a DataFrame:\n",
    "data = {\n",
    "  \"Duration\":{\n",
    "    \"0\":60,\n",
    "    \"1\":60,\n",
    "    \"2\":60,\n",
    "    \"3\":45,\n",
    "    \"4\":45,\n",
    "    \"5\":60\n",
    "  },\n",
    "  \"Pulse\":{\n",
    "    \"0\":110,\n",
    "    \"1\":117,\n",
    "    \"2\":103,\n",
    "    \"3\":109,\n",
    "    \"4\":117,\n",
    "    \"5\":102\n",
    "  },\n",
    "  \"Maxpulse\":{\n",
    "    \"0\":130,\n",
    "    \"1\":145,\n",
    "    \"2\":135,\n",
    "    \"3\":175,\n",
    "    \"4\":148,\n",
    "    \"5\":127\n",
    "  },\n",
    "  \"Calories\":{\n",
    "    \"0\":409,\n",
    "    \"1\":479,\n",
    "    \"2\":340,\n",
    "    \"3\":282,\n",
    "    \"4\":406,\n",
    "    \"5\":300\n",
    "  }\n",
    "}\n",
    "df = pd.DataFrame(data)\n",
    "print(df) \n"
   ]
  },
  {
   "cell_type": "markdown",
   "id": "4426e0a8",
   "metadata": {},
   "source": [
    "## Pandas - Analyzing DataFrames\n",
    "### Viewing the Data\n",
    "One of the most used method for getting a quick overview of the DataFrame, is the head() method.\n",
    "The head() method returns the headers and a specified number of rows, starting from the top.\n",
    "Get a quick overview by printing the first 10 rows of the DataFrame:"
   ]
  },
  {
   "cell_type": "code",
   "execution_count": 59,
   "id": "8aa4d01d",
   "metadata": {},
   "outputs": [
    {
     "name": "stdout",
     "output_type": "stream",
     "text": [
      "   Age  Gender Education Level              Job Title  Years of Experience  \\\n",
      "0   32    Male      Bachelor's      Software Engineer                  5.0   \n",
      "1   28  Female        Master's           Data Analyst                  3.0   \n",
      "2   45    Male             PhD         Senior Manager                 15.0   \n",
      "3   36  Female      Bachelor's        Sales Associate                  7.0   \n",
      "4   52    Male        Master's               Director                 20.0   \n",
      "5   29    Male      Bachelor's      Marketing Analyst                  2.0   \n",
      "6   42  Female        Master's        Product Manager                 12.0   \n",
      "7   31    Male      Bachelor's          Sales Manager                  4.0   \n",
      "8   26  Female      Bachelor's  Marketing Coordinator                  1.0   \n",
      "9   38    Male             PhD       Senior Scientist                 10.0   \n",
      "\n",
      "   Salary  \n",
      "0   90000  \n",
      "1   65000  \n",
      "2  150000  \n",
      "3   60000  \n",
      "4  200000  \n",
      "5   55000  \n",
      "6  120000  \n",
      "7   80000  \n",
      "8   45000  \n",
      "9  110000  \n"
     ]
    }
   ],
   "source": [
    "df = pd.read_csv(filepath)\n",
    "\n",
    "print(df.head(10))"
   ]
  },
  {
   "cell_type": "markdown",
   "id": "70e8a5cd",
   "metadata": {},
   "source": [
    "In our examples we will be using a CSV file called 'data.csv'.\n",
    "\n",
    "Download data.csv, or open data.csv in your browser.\n",
    "\n",
    "Note: if the number of rows is not specified, the head() method will return the top 5 rows."
   ]
  },
  {
   "cell_type": "code",
   "execution_count": 60,
   "id": "2b22c3e6",
   "metadata": {},
   "outputs": [
    {
     "name": "stdout",
     "output_type": "stream",
     "text": [
      "   Age  Gender Education Level          Job Title  Years of Experience  Salary\n",
      "0   32    Male      Bachelor's  Software Engineer                  5.0   90000\n",
      "1   28  Female        Master's       Data Analyst                  3.0   65000\n",
      "2   45    Male             PhD     Senior Manager                 15.0  150000\n",
      "3   36  Female      Bachelor's    Sales Associate                  7.0   60000\n",
      "4   52    Male        Master's           Director                 20.0  200000\n"
     ]
    }
   ],
   "source": [
    "# Print the first 5 rows of the DataFrame:\n",
    "\n",
    "import pandas as pd\n",
    "\n",
    "df = pd.read_csv(filepath)\n",
    "\n",
    "print(df.head())"
   ]
  },
  {
   "cell_type": "markdown",
   "id": "07c66964",
   "metadata": {},
   "source": [
    "##### There is also a tail() method for viewing the last rows of the DataFrame.\n",
    "\n",
    "The tail() method returns the headers and a specified number of rows, starting from the bottom.\n"
   ]
  },
  {
   "cell_type": "code",
   "execution_count": 61,
   "id": "ec65ffdf",
   "metadata": {},
   "outputs": [
    {
     "name": "stdout",
     "output_type": "stream",
     "text": [
      "     Age  Gender Education Level                      Job Title  \\\n",
      "368   35  Female      Bachelor's       Senior Marketing Analyst   \n",
      "369   43    Male        Master's         Director of Operations   \n",
      "370   29  Female      Bachelor's         Junior Project Manager   \n",
      "371   34    Male      Bachelor's  Senior Operations Coordinator   \n",
      "372   44  Female             PhD        Senior Business Analyst   \n",
      "\n",
      "     Years of Experience  Salary  \n",
      "368                  8.0   85000  \n",
      "369                 19.0  170000  \n",
      "370                  2.0   40000  \n",
      "371                  7.0   90000  \n",
      "372                 15.0  150000  \n"
     ]
    }
   ],
   "source": [
    "# Print the last 5 rows of the DataFrame:\n",
    "print(df.tail()) "
   ]
  },
  {
   "cell_type": "code",
   "execution_count": 62,
   "id": "fedb90bb",
   "metadata": {},
   "outputs": [
    {
     "name": "stdout",
     "output_type": "stream",
     "text": [
      "<class 'pandas.core.frame.DataFrame'>\n",
      "RangeIndex: 373 entries, 0 to 372\n",
      "Data columns (total 6 columns):\n",
      " #   Column               Non-Null Count  Dtype  \n",
      "---  ------               --------------  -----  \n",
      " 0   Age                  373 non-null    int64  \n",
      " 1   Gender               373 non-null    object \n",
      " 2   Education Level      373 non-null    object \n",
      " 3   Job Title            373 non-null    object \n",
      " 4   Years of Experience  373 non-null    float64\n",
      " 5   Salary               373 non-null    int64  \n",
      "dtypes: float64(1), int64(2), object(3)\n",
      "memory usage: 17.6+ KB\n",
      "None\n"
     ]
    }
   ],
   "source": [
    "# Info About the Data\n",
    "# The DataFrames object has a method called info(), that gives you more information about the data set.\n",
    "# Print information about the data:\n",
    "print(df.info()) \n"
   ]
  },
  {
   "cell_type": "markdown",
   "id": "5680afc8",
   "metadata": {},
   "source": [
    "### Null Values\n",
    "The info() method also tells us how many Non-Null values there are present in each column, and in our data set it seems like there are 164 of 169 Non-Null values in the \"Calories\" column.\n",
    "\n",
    "Which means that there are 5 rows with no value at all, in the \"Calories\" column, for whatever reason.\n",
    "\n",
    "Empty values, or Null values, can be bad when analyzing data, and you should consider removing rows with empty values. This is a step towards what is called cleaning data, and you will learn more about that in the next chapters.\n",
    "\n"
   ]
  },
  {
   "cell_type": "code",
   "execution_count": null,
   "id": "4a86aed1",
   "metadata": {},
   "outputs": [],
   "source": []
  },
  {
   "cell_type": "code",
   "execution_count": null,
   "id": "f9c04d5c",
   "metadata": {},
   "outputs": [],
   "source": []
  },
  {
   "cell_type": "code",
   "execution_count": null,
   "id": "1b7b2401",
   "metadata": {},
   "outputs": [],
   "source": []
  }
 ],
 "metadata": {
  "kernelspec": {
   "display_name": "Python 3 (ipykernel)",
   "language": "python",
   "name": "python3"
  },
  "language_info": {
   "codemirror_mode": {
    "name": "ipython",
    "version": 3
   },
   "file_extension": ".py",
   "mimetype": "text/x-python",
   "name": "python",
   "nbconvert_exporter": "python",
   "pygments_lexer": "ipython3",
   "version": "3.10.9"
  }
 },
 "nbformat": 4,
 "nbformat_minor": 5
}
